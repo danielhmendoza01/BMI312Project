{
 "cells": [
  {
   "cell_type": "code",
   "execution_count": 1,
   "metadata": {},
   "outputs": [],
   "source": [
    "import pandas as pd\n",
    "import pickle\n",
    "import os\n",
    "import re\n",
    "import scipy.stats as st\n",
    "import numpy as np\n",
    "from matplotlib import pyplot as plt  \n",
    "import statsmodels.api as sm\n",
    "import statsmodels.formula.api as smf\n",
    "\n"
   ]
  },
  {
   "cell_type": "code",
   "execution_count": 2,
   "metadata": {},
   "outputs": [
    {
     "data": {
      "text/plain": [
       "31967     65000\n",
       "31968     25000\n",
       "31969     85000\n",
       "31970     10000\n",
       "31971    110000\n",
       "31972     52000\n",
       "31973     17560\n",
       "31974     12000\n",
       "31975     75000\n",
       "31976     45000\n",
       "31977     85000\n",
       "31978     15000\n",
       "31979     35000\n",
       "31980     18000\n",
       "31981     15000\n",
       "31982     40000\n",
       "31983    100000\n",
       "31984     36000\n",
       "31985    220000\n",
       "31986     65000\n",
       "31987     35000\n",
       "31988     61500\n",
       "31989     25000\n",
       "31990     29800\n",
       "31991     68000\n",
       "31992    116204\n",
       "31993     68000\n",
       "31994     60000\n",
       "31995    101000\n",
       "31996     79000\n",
       "Name: FAMINCTC_A, dtype: int64"
      ]
     },
     "execution_count": 2,
     "metadata": {},
     "output_type": "execute_result"
    }
   ],
   "source": [
    "df = pd.read_csv('adult19.csv')\n",
    "df['FAMINCTC_A'].tail(30)"
   ]
  }
 ],
 "metadata": {
  "interpreter": {
   "hash": "bb65d556cc9ffd5fc8f64636b885d16e366ae84c2bf1ff8befa7ac4da02efdcf"
  },
  "kernelspec": {
   "display_name": "Python 3.9.7 ('base')",
   "language": "python",
   "name": "python3"
  },
  "language_info": {
   "codemirror_mode": {
    "name": "ipython",
    "version": 3
   },
   "file_extension": ".py",
   "mimetype": "text/x-python",
   "name": "python",
   "nbconvert_exporter": "python",
   "pygments_lexer": "ipython3",
   "version": "3.9.7"
  },
  "orig_nbformat": 4
 },
 "nbformat": 4,
 "nbformat_minor": 2
}
